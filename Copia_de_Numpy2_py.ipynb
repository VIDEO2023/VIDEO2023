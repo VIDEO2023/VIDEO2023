{
  "nbformat": 4,
  "nbformat_minor": 0,
  "metadata": {
    "colab": {
      "provenance": [],
      "authorship_tag": "ABX9TyO7vnksUUfb5/+EGfvUQ1g/",
      "include_colab_link": true
    },
    "kernelspec": {
      "name": "python3",
      "display_name": "Python 3"
    },
    "language_info": {
      "name": "python"
    }
  },
  "cells": [
    {
      "cell_type": "markdown",
      "metadata": {
        "id": "view-in-github",
        "colab_type": "text"
      },
      "source": [
        "<a href=\"https://colab.research.google.com/github/VIDEO2023/VIDEO2023/blob/main/Copia_de_Numpy2_py.ipynb\" target=\"_parent\"><img src=\"https://colab.research.google.com/assets/colab-badge.svg\" alt=\"Open In Colab\"/></a>"
      ]
    },
    {
      "cell_type": "code",
      "execution_count": null,
      "metadata": {
        "id": "cjfc7u4NPvEA"
      },
      "outputs": [],
      "source": [
        "import numpy as np\n",
        "\n",
        "arreglo=np.array([30,2100,300,2.4])\n",
        "\n",
        "numeroMaximo=max(arreglo)\n",
        "print(f\"El numero maximo es:{numeroMaximo}\")\n",
        "\n"
      ]
    },
    {
      "cell_type": "code",
      "source": [
        "import numpy as np\n",
        "\n",
        "arreglo1= np.random.randit(0,100,size=(3,3))\n",
        "\n",
        "print(arreglo1)\n",
        "\n",
        "arreglo=arreglo1[:].copy()\n",
        "\n",
        "print(arreglo.max())\n",
        "print(arreglo.min())\n",
        "print(arreglo.sum())\n",
        "print(arreglo.mean())\n",
        "\n",
        "num_max =arreglo1[0]\n",
        "num_min = arreglo1[0]\n",
        "suma=0\n",
        "\n",
        "for i in arreglo1:\n",
        " for j in arreglo1:\n",
        "\n",
        "  if [i][j] > num_max:\n",
        "      num_max=i\n",
        "  elif [i][j] > num_min:\n",
        "      num_min=i\n",
        "  if i > suma:\n",
        "      suma+=i\n",
        "\n",
        "promedio=suma/10\n",
        "\n",
        "print(num_max)\n",
        "print(num_min)\n",
        "print(suma)\n",
        "print(promedio)"
      ],
      "metadata": {
        "id": "MLCOe3G07o4E"
      },
      "execution_count": null,
      "outputs": []
    },
    {
      "cell_type": "markdown",
      "source": [
        "# Sección nueva"
      ],
      "metadata": {
        "id": "Ht9hm9qnXvHr"
      }
    },
    {
      "cell_type": "code",
      "source": [
        "import numpy as np\n",
        "\n",
        "#declarar el arreglo \n",
        "\n",
        "arreglo=np.array ([(10,20,30),\n",
        "                  [40,50,60],\n",
        "                  [70,80,10]])\n",
        "totalFilas=len(arreglo)\n",
        "\n",
        "totalColumnas=len(arreglo[0])\n",
        "\"\"\"\n",
        "print(\"El total de las filas es:\",totalFilas)\n",
        "print(\"El total de las columnas es:\",totalColumnas)\n",
        "\"\"\"\n",
        "\n",
        "columnaEspecifica=int(input(\"Ingrese columna especifica:\"))\n",
        "columnaEspecifica= columnaEspecifica-1\n",
        "SumaColumna= 0\n",
        "for fila in arreglo:\n",
        "  SumaColumna=+fila[columnaEspecifica]\n",
        "  \n",
        "  promedio=SumaColumna / totalFilas\n",
        "\n",
        "  print(\"El promedio de la columna\",columnaEspecifica,\"es\",promedio)\n"
      ],
      "metadata": {
        "id": "M0NnsjknRX5e"
      },
      "execution_count": null,
      "outputs": []
    }
  ]
}